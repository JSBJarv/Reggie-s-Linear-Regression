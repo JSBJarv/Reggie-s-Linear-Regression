{
 "cells": [
  {
   "cell_type": "markdown",
   "id": "becf3560",
   "metadata": {},
   "source": [
    "## Project Goals\n",
    "\n",
    "Reggie is a mad scientist who has been hired by the local fast food joint to build their newest ball pit in the play area. As such, he is working on researching the bounciness of different balls so as to optimize the pit. He is running an experiment to bounce different sizes of bouncy balls, and then fitting lines to the data points he records. He has heard of linear regression, but needs your help to implement a version of linear regression in Python.\n",
    "\n",
    "Linear Regression is when you have a group of points on a graph, and you find a line that approximately resembles that group of points. A good Linear Regression algorithm minimizes the error, or the distance from each point to the line. A line with the least error is the line that fits the data the best. We call this a line of best fit.\n",
    "\n",
    "We'll use loops, lists, and arithmetic to create a function that will find a line of best fit when given a set of data."
   ]
  },
  {
   "cell_type": "markdown",
   "id": "8464baa7",
   "metadata": {},
   "source": [
    "#### Part 1: Calculating Error\n",
    "The line we will end up with will have a formula that looks like: \n",
    "\n",
    "y = m*x + b ; where m is the slope of the line and b is the intercept, where the line crosses the y-axis.\n",
    "\n",
    "Craft a function called get_y() that takes in m, b, and x. It should return what the y value would be for that x on that line!"
   ]
  },
  {
   "cell_type": "code",
   "execution_count": 1,
   "id": "e7a6fd12",
   "metadata": {},
   "outputs": [
    {
     "name": "stdout",
     "output_type": "stream",
     "text": [
      "True\n",
      "True\n"
     ]
    }
   ],
   "source": [
    "def get_y(m, b, x):\n",
    "  return m*x + b\n",
    "\n",
    "print(get_y(1, 0, 7) == 7)\n",
    "print(get_y(5, 10, 3) == 25)"
   ]
  },
  {
   "cell_type": "markdown",
   "id": "8fe283ff",
   "metadata": {},
   "source": [
    "Reggie wants to try a bunch of different m values and b values and see which line produces the least error. To calculate the error between a point and a line, he wants a function called calculate_error(), which will take in m, b, and an [x, y] point called point and return the distance between the line and the point.\n",
    "\n",
    "To find the distance:\n",
    "1. Get the x-value from the point and store it in a variable called x_point\n",
    "2. Get the y-value from the point and store it in a variable called y_point\n",
    "3. Use get_y() to get the y-value that x_point would be on the line\n",
    "4. Find the difference between the y from get_y() and y_point\n",
    "5. Return the absolute value of the distance (you can use the built-in function abs() to do this)\n",
    "\n",
    "The distance represents the error between the line y = m*x + b and the point given."
   ]
  },
  {
   "cell_type": "code",
   "execution_count": 2,
   "id": "1c171db3",
   "metadata": {},
   "outputs": [],
   "source": [
    "def calculate_error(m, b, point):\n",
    "  x_point = point[0]\n",
    "  y1_point = point[1]\n",
    "  y2_point = get_y(m, b, x_point)\n",
    "  y_diff = y2_point - y1_point\n",
    "  return abs(y_diff)"
   ]
  },
  {
   "cell_type": "markdown",
   "id": "b0029207",
   "metadata": {},
   "source": [
    "Time to test this function~!"
   ]
  },
  {
   "cell_type": "code",
   "execution_count": 3,
   "id": "4f6afa49",
   "metadata": {},
   "outputs": [
    {
     "name": "stdout",
     "output_type": "stream",
     "text": [
      "0\n",
      "1\n",
      "1\n",
      "5\n"
     ]
    }
   ],
   "source": [
    "#this is a line that looks like y = x, so (3, 3) should lie on it. thus, error should be 0:\n",
    "print(calculate_error(1, 0, (3, 3)))\n",
    "\n",
    "#the point (3, 4) should be 1 unit away from the line y = x:\n",
    "print(calculate_error(1, 0, (3, 4)))\n",
    "\n",
    "# the point (3, 3) should be 1 unit away from the line y = x - 1:\n",
    "print(calculate_error(1, -1, (3, 3)))\n",
    "\n",
    "# the point (3, 3) should be 5 units away from the line y = -x + 1:\n",
    "print(calculate_error(-1, 1, (3, 3)))"
   ]
  },
  {
   "cell_type": "markdown",
   "id": "a47c61da",
   "metadata": {},
   "source": [
    "Great! Reggie’s datasets will be sets of points. For example, he ran an experiment comparing the width of bouncy balls to how high they bounce:"
   ]
  },
  {
   "cell_type": "code",
   "execution_count": 11,
   "id": "ed933f9b",
   "metadata": {},
   "outputs": [],
   "source": [
    "datapoints = [(1, 1), (3, 3), (5, 5), (-1, -1)]"
   ]
  },
  {
   "cell_type": "markdown",
   "id": "cac66bb6",
   "metadata": {},
   "source": [
    "The first datapoint, (1, 2), means that his 1cm bouncy ball bounced 2 meters. The 4cm bouncy ball bounced 4 meters.\n",
    "\n",
    "As we try to fit a line to this data, we will need a function called calculate_all_error(), which takes m and b that describe a line, and points, a set of data like the example above.\n",
    "\n",
    "calculate_all_error() should iterate through each point in points and calculate the error from that point to the line (using calculate_error()). It should keep a running total of the error, and then return that total after the loop."
   ]
  },
  {
   "cell_type": "code",
   "execution_count": 12,
   "id": "6c77e6d7",
   "metadata": {},
   "outputs": [],
   "source": [
    "def calculate_all_error(m, b, points):\n",
    "  total_error = 0\n",
    "  for sets in points:\n",
    "    total_error += calculate_error(m, b, sets)\n",
    "  return total_error"
   ]
  },
  {
   "cell_type": "markdown",
   "id": "bffe0ab5",
   "metadata": {},
   "source": [
    "Let's test our new function~"
   ]
  },
  {
   "cell_type": "code",
   "execution_count": 13,
   "id": "5b8bb665",
   "metadata": {},
   "outputs": [
    {
     "name": "stdout",
     "output_type": "stream",
     "text": [
      "0\n",
      "4\n",
      "4\n",
      "18\n"
     ]
    }
   ],
   "source": [
    "# every point in this dataset lies upon y=x, so the total error should be zero:\n",
    "print(calculate_all_error(1, 0, datapoints))\n",
    "\n",
    "# every point in this dataset is 1 unit away from y = x + 1, so the total error should be 4:\n",
    "\n",
    "print(calculate_all_error(1, 1, datapoints))\n",
    "\n",
    "# every point in this dataset is 1 unit away from y = x - 1, so the total error should be 4:\n",
    "print(calculate_all_error(1, -1, datapoints))\n",
    "\n",
    "# the points in this dataset are 1, 5, 9, and 3 units away from y = -x + 1, respectively, so total error should be\n",
    "# 1 + 5 + 9 + 3 = 18\n",
    "print(calculate_all_error(-1, 1, datapoints))"
   ]
  },
  {
   "cell_type": "markdown",
   "id": "75ea00d7",
   "metadata": {},
   "source": [
    "Great! It looks like we now have a function that can take in a line and Reggie’s data and return how much error that line produces when we try to fit it to the data.\n",
    "\n",
    "Our next step is to find the m and b that minimizes this error, and thus fits the data best!"
   ]
  },
  {
   "cell_type": "markdown",
   "id": "9fc28822",
   "metadata": {},
   "source": [
    "### Part 2: Try a bunch of slopes and intercepts!\n",
    "The way Reggie wants to find a line of best fit is by trial and error. He wants to try a bunch of different slopes (m values) and a bunch of different intercepts (b values) and see which one produces the smallest error value for his dataset.\n",
    "\n",
    "Using a list comprehension, let’s create a list of possible m values to try. Make the list possible_ms that goes from -10 to 10 inclusive, in increments of 0.1."
   ]
  },
  {
   "cell_type": "code",
   "execution_count": 14,
   "id": "83ddb52f",
   "metadata": {},
   "outputs": [],
   "source": [
    "possible_ms = [m/10 for m in range(-100, 100)]"
   ]
  },
  {
   "cell_type": "markdown",
   "id": "80fcc31a",
   "metadata": {},
   "source": [
    "Now, let’s make a list of possible_bs to check that would be the values from -20 to 20 inclusive, in steps of 0.1."
   ]
  },
  {
   "cell_type": "code",
   "execution_count": 15,
   "id": "61fbc4a8",
   "metadata": {},
   "outputs": [],
   "source": [
    "possible_bs = [b/10 for b in range(-200, 200)]"
   ]
  },
  {
   "cell_type": "markdown",
   "id": "64d06a46",
   "metadata": {},
   "source": [
    "We are going to find the smallest error. First, we will make every possible y = m*x + b line by pairing all of the possible ms with all of the possible bs. Then, we will see which y = m*x + b line produces the smallest total error with the set of data stored in datapoints.\n",
    "\n",
    "First, create the variables that we will be optimizing:\n",
    "1. smallest_error — this should start at infinity (float(\"inf\")) so that any error we get at first will be smaller than our value of smallest_error\n",
    "2. best_m — we can start this at 0\n",
    "3. best_b — we can start this at 0\n",
    "\n",
    "We want to:\n",
    "1. Iterate through each element m in possible_ms\n",
    "2. For every m value, take every b value in possible_bs\n",
    "3. If the value returned from calculate_all_error() on this m value, this b value, and datapoints is less than our current smallest_error,\n",
    "4. Set best_m and best_b to be these values, and set smallest_error to this error.\n",
    "\n",
    "\n",
    "By the end of these nested loops, the smallest_error should hold the smallest error we have found, and best_m and best_b should be the values that produced that smallest error value.\n",
    "\n",
    "Print out best_m, best_b and smallest_error after the loops."
   ]
  },
  {
   "cell_type": "code",
   "execution_count": 16,
   "id": "0f04a6d8",
   "metadata": {},
   "outputs": [
    {
     "name": "stdout",
     "output_type": "stream",
     "text": [
      "Best slope of the line: 0.4 \n",
      "Best y-intercept: 1.6 \n",
      "Error: 5.0\n"
     ]
    }
   ],
   "source": [
    "datapoints = [(1, 2), (2, 0), (3, 4), (4, 4), (5, 3)]\n",
    "smallest_error = float('inf')\n",
    "best_m = 0\n",
    "best_b = 0\n",
    "\n",
    "for ms in possible_ms:\n",
    "  for bs in possible_bs:\n",
    "    if calculate_all_error(ms, bs, datapoints) < smallest_error:\n",
    "      smallest_error = calculate_all_error(ms, bs, datapoints)\n",
    "      best_m = ms\n",
    "      best_b = bs\n",
    "print('Best slope of the line:', best_m, '\\nBest y-intercept:', best_b, '\\nError:', smallest_error)"
   ]
  },
  {
   "cell_type": "markdown",
   "id": "7c6f2d7c",
   "metadata": {},
   "source": [
    "#### Part 3: What does our model predict?\n",
    "Now we have seen that for this set of observations on the bouncy balls, the line that fits the data best has an m of 0.4 and a b of 1.6:\n",
    "Eq. y = 0.4x + 1.6\n",
    "\n",
    "This line produced a total error of 5.\n",
    "\n",
    "Using this m and this b, what does your line predict the bounce height of a ball with a width of 6 to be? In other words, what is the output of get_y() when we call it with:\n",
    "\n",
    "m = 0.4\n",
    "b = 1.6\n",
    "x = 6"
   ]
  },
  {
   "cell_type": "code",
   "execution_count": 17,
   "id": "7421ae1c",
   "metadata": {},
   "outputs": [],
   "source": [
    "y_value = get_y(0.4, 1.6, 6)"
   ]
  },
  {
   "cell_type": "code",
   "execution_count": 18,
   "id": "ff66a041",
   "metadata": {},
   "outputs": [
    {
     "name": "stdout",
     "output_type": "stream",
     "text": [
      "4.0\n"
     ]
    }
   ],
   "source": [
    "print(y_value)"
   ]
  },
  {
   "cell_type": "markdown",
   "id": "6d7ee730",
   "metadata": {},
   "source": [
    "Our model predicts that the 6cm ball will bounce 4.0m.\n",
    "\n",
    "Now, Reggie can use this model to predict the bounce of all kinds of sizes of balls he may choose to include in the ball pit!"
   ]
  }
 ],
 "metadata": {
  "kernelspec": {
   "display_name": "Python 3 (ipykernel)",
   "language": "python",
   "name": "python3"
  },
  "language_info": {
   "codemirror_mode": {
    "name": "ipython",
    "version": 3
   },
   "file_extension": ".py",
   "mimetype": "text/x-python",
   "name": "python",
   "nbconvert_exporter": "python",
   "pygments_lexer": "ipython3",
   "version": "3.9.13"
  }
 },
 "nbformat": 4,
 "nbformat_minor": 5
}
